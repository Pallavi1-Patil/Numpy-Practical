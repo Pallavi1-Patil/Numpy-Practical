{
 "cells": [
  {
   "cell_type": "code",
   "execution_count": 4,
   "id": "6d91f74d",
   "metadata": {},
   "outputs": [],
   "source": [
    "import numpy as np"
   ]
  },
  {
   "cell_type": "code",
   "execution_count": 2,
   "id": "bea30e2d",
   "metadata": {},
   "outputs": [
    {
     "data": {
      "text/plain": [
       "'1.22.2'"
      ]
     },
     "execution_count": 2,
     "metadata": {},
     "output_type": "execute_result"
    }
   ],
   "source": [
    "np.__version__"
   ]
  },
  {
   "cell_type": "code",
   "execution_count": 3,
   "id": "999a3fd0",
   "metadata": {},
   "outputs": [
    {
     "name": "stdout",
     "output_type": "stream",
     "text": [
      "[1 2 3 4]\n"
     ]
    }
   ],
   "source": [
    "arr_1d=np.array([1,2,3,4])\n",
    "print(arr_1d)"
   ]
  },
  {
   "cell_type": "code",
   "execution_count": 4,
   "id": "eb5b27d9",
   "metadata": {},
   "outputs": [
    {
     "data": {
      "text/plain": [
       "dtype('int32')"
      ]
     },
     "execution_count": 4,
     "metadata": {},
     "output_type": "execute_result"
    }
   ],
   "source": [
    "arr_1d.dtype # datatype"
   ]
  },
  {
   "cell_type": "code",
   "execution_count": 5,
   "id": "00845146",
   "metadata": {},
   "outputs": [
    {
     "data": {
      "text/plain": [
       "numpy.ndarray"
      ]
     },
     "execution_count": 5,
     "metadata": {},
     "output_type": "execute_result"
    }
   ],
   "source": [
    "type(arr_1d) # variabletype"
   ]
  },
  {
   "cell_type": "code",
   "execution_count": 6,
   "id": "796cf69b",
   "metadata": {},
   "outputs": [
    {
     "data": {
      "text/plain": [
       "1"
      ]
     },
     "execution_count": 6,
     "metadata": {},
     "output_type": "execute_result"
    }
   ],
   "source": [
    "arr_1d.ndim # dimentionality of an array"
   ]
  },
  {
   "cell_type": "code",
   "execution_count": 7,
   "id": "9a22281c",
   "metadata": {},
   "outputs": [
    {
     "name": "stdout",
     "output_type": "stream",
     "text": [
      "[[1 2 3 4]\n",
      " [5 6 7 8]]\n"
     ]
    }
   ],
   "source": [
    "arr_2d=np.array([[1,2,3,4],[5,6,7,8]])\n",
    "print(arr_2d)"
   ]
  },
  {
   "cell_type": "code",
   "execution_count": 8,
   "id": "3b5df9d4",
   "metadata": {},
   "outputs": [
    {
     "data": {
      "text/plain": [
       "2"
      ]
     },
     "execution_count": 8,
     "metadata": {},
     "output_type": "execute_result"
    }
   ],
   "source": [
    "arr_2d.ndim"
   ]
  },
  {
   "cell_type": "code",
   "execution_count": 9,
   "id": "432a853b",
   "metadata": {},
   "outputs": [
    {
     "data": {
      "text/plain": [
       "4"
      ]
     },
     "execution_count": 9,
     "metadata": {},
     "output_type": "execute_result"
    }
   ],
   "source": [
    "arr_1d.size"
   ]
  },
  {
   "cell_type": "code",
   "execution_count": 10,
   "id": "40a7a53c",
   "metadata": {},
   "outputs": [
    {
     "data": {
      "text/plain": [
       "8"
      ]
     },
     "execution_count": 10,
     "metadata": {},
     "output_type": "execute_result"
    }
   ],
   "source": [
    "arr_2d.size"
   ]
  },
  {
   "cell_type": "code",
   "execution_count": 11,
   "id": "c4aa284d",
   "metadata": {},
   "outputs": [
    {
     "data": {
      "text/plain": [
       "(2, 4)"
      ]
     },
     "execution_count": 11,
     "metadata": {},
     "output_type": "execute_result"
    }
   ],
   "source": [
    "arr_2d.shape"
   ]
  },
  {
   "cell_type": "code",
   "execution_count": 12,
   "id": "bfc931cd",
   "metadata": {},
   "outputs": [],
   "source": [
    "#(row,colm)"
   ]
  },
  {
   "cell_type": "code",
   "execution_count": 13,
   "id": "0f08ce6a",
   "metadata": {},
   "outputs": [
    {
     "data": {
      "text/plain": [
       "dtype('int32')"
      ]
     },
     "execution_count": 13,
     "metadata": {},
     "output_type": "execute_result"
    }
   ],
   "source": [
    "arr_2d.dtype"
   ]
  },
  {
   "cell_type": "code",
   "execution_count": 14,
   "id": "cbd485d1",
   "metadata": {},
   "outputs": [
    {
     "data": {
      "text/plain": [
       "array([[1, 2, 3, 4],\n",
       "       [5, 6, 7, 8]])"
      ]
     },
     "execution_count": 14,
     "metadata": {},
     "output_type": "execute_result"
    }
   ],
   "source": [
    "arr_2d"
   ]
  },
  {
   "cell_type": "code",
   "execution_count": 23,
   "id": "eb53e211",
   "metadata": {},
   "outputs": [
    {
     "name": "stdout",
     "output_type": "stream",
     "text": [
      "[[[4 2]]\n",
      "\n",
      " [[4 2]]]\n",
      "<class 'numpy.ndarray'>\n",
      "3\n",
      "(2, 1, 2)\n",
      "4\n"
     ]
    }
   ],
   "source": [
    "a=np.array([[[4,2]],[[4,2]]]) #(2,1,2)\n",
    "print(a)\n",
    "print(type(a))\n",
    "print(a.ndim)\n",
    "print(a.shape)\n",
    "print(a.size)"
   ]
  },
  {
   "cell_type": "code",
   "execution_count": 17,
   "id": "9d052772",
   "metadata": {},
   "outputs": [
    {
     "name": "stdout",
     "output_type": "stream",
     "text": [
      "[1 2 3 5 6 8]\n",
      "<class 'numpy.ndarray'>\n",
      "1\n",
      "(6,)\n",
      "6\n"
     ]
    }
   ],
   "source": [
    "#array of dim \"1\" with shape as (6,)\n",
    "a=np.array([1,2,3,5,6,8])\n",
    "print(a)\n",
    "print(type(a))\n",
    "print(a.ndim)\n",
    "print(a.shape)\n",
    "print(a.size)"
   ]
  },
  {
   "cell_type": "code",
   "execution_count": 18,
   "id": "87b03f6e",
   "metadata": {},
   "outputs": [
    {
     "name": "stdout",
     "output_type": "stream",
     "text": [
      "[[1 2]]\n",
      "<class 'numpy.ndarray'>\n",
      "2\n",
      "(1, 2)\n",
      "2\n"
     ]
    }
   ],
   "source": [
    "# #array of dim \"2\" with shape as (1,2)\n",
    "a=np.array([[1,2]])\n",
    "print(a)\n",
    "print(type(a))\n",
    "print(a.ndim)\n",
    "print(a.shape)\n",
    "print(a.size)"
   ]
  },
  {
   "cell_type": "code",
   "execution_count": 10,
   "id": "d726509e",
   "metadata": {},
   "outputs": [
    {
     "name": "stdout",
     "output_type": "stream",
     "text": [
      "[[1]\n",
      " [2]]\n",
      "<class 'numpy.ndarray'>\n",
      "2\n",
      "(2, 1)\n",
      "2\n"
     ]
    }
   ],
   "source": [
    "# #array of dim \"2\" with shape as (2,1)\n",
    "a=np.array([[1],[2]])\n",
    "print(a)\n",
    "print(type(a))\n",
    "print(a.ndim)\n",
    "print(a.shape)\n",
    "print(a.size)"
   ]
  },
  {
   "cell_type": "code",
   "execution_count": 11,
   "id": "29fc47ff",
   "metadata": {},
   "outputs": [
    {
     "name": "stdout",
     "output_type": "stream",
     "text": [
      "[[1 5 4 8]\n",
      " [2 8 7 9]]\n",
      "<class 'numpy.ndarray'>\n",
      "2\n",
      "(2, 4)\n",
      "8\n"
     ]
    }
   ],
   "source": [
    "# #array of dim \"2\" with shape as (2,4)\n",
    "a=np.array([[1,5,4,8],\n",
    "            [2,8,7,9]])\n",
    "print(a)\n",
    "print(type(a))\n",
    "print(a.ndim)\n",
    "print(a.shape)\n",
    "print(a.size)"
   ]
  },
  {
   "cell_type": "code",
   "execution_count": 20,
   "id": "5b07e067",
   "metadata": {},
   "outputs": [
    {
     "name": "stdout",
     "output_type": "stream",
     "text": [
      "[[[1 5 4]\n",
      "  [2 8 7]]]\n",
      "<class 'numpy.ndarray'>\n",
      "3\n",
      "(1, 2, 3)\n",
      "6\n"
     ]
    }
   ],
   "source": [
    "##array of dim \"3\" with shape as (1,2,3)\n",
    "a=np.array([[[1,5,4],[2,8,7]]])\n",
    "print(a)\n",
    "print(type(a))\n",
    "print(a.ndim)\n",
    "print(a.shape)\n",
    "print(a.size)"
   ]
  },
  {
   "cell_type": "code",
   "execution_count": 21,
   "id": "6556b524",
   "metadata": {},
   "outputs": [
    {
     "name": "stdout",
     "output_type": "stream",
     "text": [
      "[[[1]\n",
      "  [2]]\n",
      "\n",
      " [[1]\n",
      "  [2]]\n",
      "\n",
      " [[1]\n",
      "  [2]]]\n",
      "<class 'numpy.ndarray'>\n",
      "3\n",
      "(3, 2, 1)\n",
      "6\n"
     ]
    }
   ],
   "source": [
    "# #array of dim \"3\" with shape as (3,2,1)\n",
    "a=np.array([[[1],[2]],[[1],[2]],[[1],[2]]])\n",
    "print(a)\n",
    "print(type(a))\n",
    "print(a.ndim)\n",
    "print(a.shape)\n",
    "print(a.size)"
   ]
  },
  {
   "cell_type": "code",
   "execution_count": 14,
   "id": "3e9ef396",
   "metadata": {},
   "outputs": [
    {
     "name": "stdout",
     "output_type": "stream",
     "text": [
      "[[[1 2 3]\n",
      "  [1 2 3]\n",
      "  [1 2 3]]\n",
      "\n",
      " [[1 2 3]\n",
      "  [1 2 3]\n",
      "  [1 2 3]]\n",
      "\n",
      " [[1 2 3]\n",
      "  [1 2 3]\n",
      "  [1 2 3]]]\n",
      "<class 'numpy.ndarray'>\n",
      "3\n",
      "(3, 3, 3)\n",
      "27\n"
     ]
    }
   ],
   "source": [
    "# #array of dim \"3\" with shape as (3,3,3)\n",
    "\n",
    "(2,2,2)\n",
    "a=np.array([[[],[]],[[],[]]])\n",
    "a=np.array([[[1,2,3],\n",
    "             [1,2,3],\n",
    "             [1,2,3]],\n",
    "            [[1,2,3],\n",
    "             [1,2,3],\n",
    "             [1,2,3]],\n",
    "            [[1,2,3],\n",
    "             [1,2,3],\n",
    "             [1,2,3]]])\n",
    "print(a)\n",
    "print(type(a))\n",
    "print(a.ndim)\n",
    "print(a.shape)\n",
    "print(a.size)"
   ]
  },
  {
   "cell_type": "code",
   "execution_count": 15,
   "id": "b1dec810",
   "metadata": {},
   "outputs": [
    {
     "name": "stdout",
     "output_type": "stream",
     "text": [
      "<class 'numpy.ndarray'>\n",
      "3\n",
      "(2, 1, 2)\n",
      "4\n",
      "[[[1 2]\n",
      "  [1 2]]\n",
      "\n",
      " [[1 2]\n",
      "  [1 2]]]\n",
      "<class 'numpy.ndarray'>\n",
      "3\n",
      "(2, 2, 2)\n",
      "8\n"
     ]
    }
   ],
   "source": [
    "# #array of dim \"3\" with shape as (2,1,2)\n",
    "a=np.array([[[1,2]],[[1,2]]])\n",
    "print(type(a))\n",
    "print(a.ndim)\n",
    "print(a.shape)\n",
    "print(a.size)\n",
    "a=np.array([[[1,2],\n",
    "             [1,2]],\n",
    "            [[1,2],\n",
    "             [1,2]]])\n",
    "print(a)\n",
    "print(type(a))\n",
    "print(a.ndim)\n",
    "print(a.shape)\n",
    "print(a.size)"
   ]
  },
  {
   "cell_type": "code",
   "execution_count": 24,
   "id": "cb3ee8b7",
   "metadata": {},
   "outputs": [
    {
     "name": "stdout",
     "output_type": "stream",
     "text": [
      "<class 'numpy.ndarray'>\n",
      "(4,)\n"
     ]
    }
   ],
   "source": [
    "x=np.array([4,7,9,10])\n",
    "print(type(x))\n",
    "print(x.shape)"
   ]
  },
  {
   "cell_type": "code",
   "execution_count": 25,
   "id": "bf37f575",
   "metadata": {},
   "outputs": [
    {
     "name": "stdout",
     "output_type": "stream",
     "text": [
      "4 7 9 10\n"
     ]
    }
   ],
   "source": [
    "print(x[0],x[1],x[2],x[3])  # numpy arrays are mutable.\n",
    "x[0]=3\n",
    "x[1]=6\n",
    "x[2]=1"
   ]
  },
  {
   "cell_type": "code",
   "execution_count": 26,
   "id": "f38a5231",
   "metadata": {},
   "outputs": [
    {
     "name": "stdout",
     "output_type": "stream",
     "text": [
      "[3 5 7 6]\n",
      "[5 7]\n",
      "[3 6]\n"
     ]
    }
   ],
   "source": [
    "y= np.array([[3,5,7,6],[1,8,2,10]])\n",
    "# indexing\n",
    "print(y[0])\n",
    "#Slicing\n",
    "print(y[0,1:3])\n",
    "#Stepping\n",
    "print(y[0,::3])"
   ]
  },
  {
   "cell_type": "code",
   "execution_count": 27,
   "id": "77367fea",
   "metadata": {},
   "outputs": [
    {
     "name": "stdout",
     "output_type": "stream",
     "text": [
      "[[3 7]\n",
      " [1 2]]\n"
     ]
    }
   ],
   "source": [
    "#Stepping\n",
    "print(y[:,::2])"
   ]
  },
  {
   "cell_type": "code",
   "execution_count": 28,
   "id": "5ed6d5e9",
   "metadata": {},
   "outputs": [
    {
     "data": {
      "text/plain": [
       "array([[0., 0., 0.],\n",
       "       [0., 0., 0.]])"
      ]
     },
     "execution_count": 28,
     "metadata": {},
     "output_type": "execute_result"
    }
   ],
   "source": [
    "x=np.zeros([2,3])\n",
    "x"
   ]
  },
  {
   "cell_type": "code",
   "execution_count": 29,
   "id": "5f0d60f3",
   "metadata": {},
   "outputs": [],
   "source": [
    "x[0]=3"
   ]
  },
  {
   "cell_type": "code",
   "execution_count": 30,
   "id": "f0516750",
   "metadata": {},
   "outputs": [
    {
     "data": {
      "text/plain": [
       "array([[3., 3., 3.],\n",
       "       [0., 0., 0.]])"
      ]
     },
     "execution_count": 30,
     "metadata": {},
     "output_type": "execute_result"
    }
   ],
   "source": [
    "x"
   ]
  },
  {
   "cell_type": "code",
   "execution_count": 31,
   "id": "1d6f7d97",
   "metadata": {},
   "outputs": [],
   "source": [
    "x[0,0]=5"
   ]
  },
  {
   "cell_type": "code",
   "execution_count": 32,
   "id": "b5d371e4",
   "metadata": {},
   "outputs": [
    {
     "data": {
      "text/plain": [
       "array([[5., 3., 3.],\n",
       "       [0., 0., 0.]])"
      ]
     },
     "execution_count": 32,
     "metadata": {},
     "output_type": "execute_result"
    }
   ],
   "source": [
    "x"
   ]
  },
  {
   "cell_type": "code",
   "execution_count": 33,
   "id": "6523a11f",
   "metadata": {},
   "outputs": [
    {
     "data": {
      "text/plain": [
       "array([[0., 0., 0.],\n",
       "       [0., 0., 0.],\n",
       "       [0., 0., 0.]])"
      ]
     },
     "execution_count": 33,
     "metadata": {},
     "output_type": "execute_result"
    }
   ],
   "source": [
    "x=np.zeros([3,3])\n",
    "x"
   ]
  },
  {
   "cell_type": "code",
   "execution_count": 34,
   "id": "9d43e7b8",
   "metadata": {},
   "outputs": [],
   "source": [
    "x[0]=5\n",
    "x[1]=6\n",
    "x[2]=7"
   ]
  },
  {
   "cell_type": "code",
   "execution_count": 35,
   "id": "3b55b1b6",
   "metadata": {},
   "outputs": [
    {
     "data": {
      "text/plain": [
       "array([[5., 5., 5.],\n",
       "       [6., 6., 6.],\n",
       "       [7., 7., 7.]])"
      ]
     },
     "execution_count": 35,
     "metadata": {},
     "output_type": "execute_result"
    }
   ],
   "source": [
    "x"
   ]
  },
  {
   "cell_type": "code",
   "execution_count": 36,
   "id": "c596419c",
   "metadata": {},
   "outputs": [
    {
     "data": {
      "text/plain": [
       "array([[1., 1., 1.],\n",
       "       [1., 1., 1.],\n",
       "       [1., 1., 1.]])"
      ]
     },
     "execution_count": 36,
     "metadata": {},
     "output_type": "execute_result"
    }
   ],
   "source": [
    "x=np.ones((3,3))\n",
    "x"
   ]
  },
  {
   "cell_type": "code",
   "execution_count": 37,
   "id": "7e16b5e5",
   "metadata": {},
   "outputs": [
    {
     "data": {
      "text/plain": [
       "array([[10, 10, 10],\n",
       "       [10, 10, 10],\n",
       "       [10, 10, 10]])"
      ]
     },
     "execution_count": 37,
     "metadata": {},
     "output_type": "execute_result"
    }
   ],
   "source": [
    "x=np.full((3,3),10)\n",
    "x"
   ]
  },
  {
   "cell_type": "code",
   "execution_count": 38,
   "id": "c07a99d7",
   "metadata": {},
   "outputs": [
    {
     "data": {
      "text/plain": [
       "array([[1., 0., 0., 0.],\n",
       "       [0., 1., 0., 0.],\n",
       "       [0., 0., 1., 0.],\n",
       "       [0., 0., 0., 1.]])"
      ]
     },
     "execution_count": 38,
     "metadata": {},
     "output_type": "execute_result"
    }
   ],
   "source": [
    "x=np.eye(4)   # identity matrix\n",
    "x"
   ]
  },
  {
   "cell_type": "code",
   "execution_count": 39,
   "id": "d6e9e93e",
   "metadata": {
    "collapsed": true
   },
   "outputs": [
    {
     "data": {
      "text/plain": [
       "array([[0.75644595, 0.98559206, 0.23577447, 0.45889981, 0.94204826,\n",
       "        0.09276458, 0.78181238, 0.3187715 , 0.12090492, 0.76904905,\n",
       "        0.11179796, 0.68835322, 0.48367261, 0.25850934, 0.60465941,\n",
       "        0.1466262 , 0.54225628, 0.87709348, 0.37557466, 0.23943117],\n",
       "       [0.93505917, 0.94862507, 0.13872974, 0.69059577, 0.14150879,\n",
       "        0.87537825, 0.76949799, 0.25018474, 0.12258571, 0.80889708,\n",
       "        0.15893407, 0.9805711 , 0.74283009, 0.91705112, 0.89587775,\n",
       "        0.36949895, 0.53288621, 0.66919694, 0.45550108, 0.51620798],\n",
       "       [0.35538099, 0.04832177, 0.26779767, 0.05195155, 0.00174463,\n",
       "        0.7315603 , 0.40002218, 0.71389285, 0.21104945, 0.51521459,\n",
       "        0.3552083 , 0.50218577, 0.03363131, 0.43602524, 0.40118848,\n",
       "        0.82009497, 0.043894  , 0.96150175, 0.56842218, 0.95509653],\n",
       "       [0.426013  , 0.56244255, 0.03975614, 0.74803861, 0.56495902,\n",
       "        0.68782375, 0.43062157, 0.51445264, 0.1561298 , 0.02145834,\n",
       "        0.26420933, 0.78797757, 0.32834694, 0.23898576, 0.74572157,\n",
       "        0.10768357, 0.16037619, 0.24828202, 0.90056049, 0.66874034],\n",
       "       [0.00774736, 0.07189167, 0.17885589, 0.19507633, 0.8882643 ,\n",
       "        0.24126524, 0.91598396, 0.97355157, 0.8335083 , 0.37680516,\n",
       "        0.24383111, 0.03712044, 0.49571157, 0.40077311, 0.46167083,\n",
       "        0.824562  , 0.2551698 , 0.28287739, 0.98856052, 0.4790597 ],\n",
       "       [0.51419262, 0.14951947, 0.39566259, 0.04125383, 0.24424844,\n",
       "        0.46563463, 0.71379044, 0.9593767 , 0.97054169, 0.08052936,\n",
       "        0.53928035, 0.5119996 , 0.4697794 , 0.16904845, 0.9719975 ,\n",
       "        0.52789321, 0.51518344, 0.2636405 , 0.64706659, 0.90356418],\n",
       "       [0.41496407, 0.45648712, 0.27780759, 0.49469197, 0.65905108,\n",
       "        0.5728913 , 0.74685803, 0.47011088, 0.14772799, 0.58021542,\n",
       "        0.08925403, 0.32147595, 0.36007923, 0.19097402, 0.20463395,\n",
       "        0.7098283 , 0.2868709 , 0.51371671, 0.4673721 , 0.00433678],\n",
       "       [0.74739261, 0.2995707 , 0.39385286, 0.42318507, 0.38637327,\n",
       "        0.33002588, 0.95615505, 0.27637417, 0.08372935, 0.96095965,\n",
       "        0.33339491, 0.63764713, 0.43670819, 0.46520391, 0.80411937,\n",
       "        0.12424315, 0.30699501, 0.31590457, 0.71225979, 0.09296826],\n",
       "       [0.51925346, 0.79029643, 0.92512159, 0.00541611, 0.00604473,\n",
       "        0.76630655, 0.79255004, 0.37433082, 0.5648821 , 0.1179268 ,\n",
       "        0.72244975, 0.60865126, 0.97453324, 0.31643226, 0.63622564,\n",
       "        0.25472775, 0.56338303, 0.06653136, 0.89549233, 0.11739396],\n",
       "       [0.07878582, 0.17624002, 0.17778608, 0.03477683, 0.66149426,\n",
       "        0.23663909, 0.42460808, 0.36258001, 0.30386396, 0.17763908,\n",
       "        0.85130609, 0.11849247, 0.42023859, 0.44059886, 0.39988569,\n",
       "        0.14358133, 0.4068106 , 0.91606172, 0.06642016, 0.44792815],\n",
       "       [0.50460701, 0.02226378, 0.45471879, 0.35776882, 0.30567444,\n",
       "        0.48674597, 0.32341833, 0.05894263, 0.92448919, 0.62343737,\n",
       "        0.68697045, 0.36488135, 0.00382785, 0.03242846, 0.55629558,\n",
       "        0.45018007, 0.9975901 , 0.50377825, 0.99966371, 0.43209499],\n",
       "       [0.57006069, 0.91897642, 0.93897606, 0.06170589, 0.57114902,\n",
       "        0.19237428, 0.59788272, 0.60351555, 0.17949898, 0.75749283,\n",
       "        0.79412346, 0.84088803, 0.26367595, 0.67918789, 0.75001139,\n",
       "        0.95204996, 0.36905802, 0.86701297, 0.272252  , 0.37759239],\n",
       "       [0.08538812, 0.09732713, 0.74267831, 0.54092535, 0.78110503,\n",
       "        0.7900153 , 0.7257528 , 0.27895224, 0.92444498, 0.90427717,\n",
       "        0.36715968, 0.1479783 , 0.31696392, 0.55053426, 0.02570969,\n",
       "        0.2726882 , 0.15936168, 0.01739097, 0.30956829, 0.91849094],\n",
       "       [0.8565277 , 0.77209026, 0.35139781, 0.57590352, 0.65314717,\n",
       "        0.8054509 , 0.859437  , 0.82907479, 0.78116843, 0.83677888,\n",
       "        0.46438991, 0.37899906, 0.70962638, 0.67888441, 0.50401746,\n",
       "        0.80641633, 0.42012291, 0.17444806, 0.59864624, 0.85488189],\n",
       "       [0.68617032, 0.74231175, 0.57599626, 0.85754703, 0.14106029,\n",
       "        0.79816688, 0.31936967, 0.01272005, 0.06337345, 0.22267368,\n",
       "        0.96364936, 0.11613445, 0.5696394 , 0.09749864, 0.83509212,\n",
       "        0.0879918 , 0.89836939, 0.42974957, 0.63746283, 0.84118942],\n",
       "       [0.03683898, 0.27266274, 0.29235374, 0.45270157, 0.03332358,\n",
       "        0.37064749, 0.04916536, 0.32623736, 0.25946374, 0.14625445,\n",
       "        0.79086464, 0.01961688, 0.60094784, 0.9285186 , 0.19383709,\n",
       "        0.56092964, 0.55665896, 0.73198061, 0.24624619, 0.41595694],\n",
       "       [0.48392382, 0.89022786, 0.80318571, 0.26969864, 0.44772432,\n",
       "        0.6320168 , 0.49213878, 0.06634041, 0.72541977, 0.57010289,\n",
       "        0.18636798, 0.350189  , 0.5513305 , 0.76183663, 0.02049578,\n",
       "        0.94487813, 0.21335496, 0.85435482, 0.36640221, 0.47039208],\n",
       "       [0.44381554, 0.97590414, 0.34308159, 0.91759004, 0.08231531,\n",
       "        0.41637579, 0.16777643, 0.27116327, 0.93896224, 0.40195444,\n",
       "        0.88979924, 0.32148597, 0.678753  , 0.90996424, 0.92142899,\n",
       "        0.05024713, 0.96628284, 0.48798026, 0.39071617, 0.05947194],\n",
       "       [0.50758594, 0.30573961, 0.32873161, 0.62218446, 0.85221369,\n",
       "        0.34910268, 0.1202622 , 0.80496401, 0.47694945, 0.82227842,\n",
       "        0.72612139, 0.22629835, 0.40589062, 0.20896045, 0.5871048 ,\n",
       "        0.73811976, 0.68346947, 0.04735401, 0.22839432, 0.38727175],\n",
       "       [0.86197102, 0.43116985, 0.41924316, 0.64900869, 0.00559619,\n",
       "        0.10323544, 0.42157232, 0.98169657, 0.2347773 , 0.24182325,\n",
       "        0.16988847, 0.74821813, 0.73098508, 0.60371881, 0.91619538,\n",
       "        0.23150652, 0.62418573, 0.44870991, 0.40011223, 0.41724898]])"
      ]
     },
     "execution_count": 39,
     "metadata": {},
     "output_type": "execute_result"
    }
   ],
   "source": [
    "z=np.random.random((20,20))\n",
    "z"
   ]
  },
  {
   "cell_type": "code",
   "execution_count": 40,
   "id": "c9eb3fa9",
   "metadata": {},
   "outputs": [
    {
     "data": {
      "text/plain": [
       "array([[1., 0., 0., 0.],\n",
       "       [0., 1., 0., 0.],\n",
       "       [0., 0., 1., 0.],\n",
       "       [0., 0., 0., 1.]])"
      ]
     },
     "execution_count": 40,
     "metadata": {},
     "output_type": "execute_result"
    }
   ],
   "source": [
    "x=np.identity(4)  ##eye=identity\n",
    "x"
   ]
  },
  {
   "cell_type": "code",
   "execution_count": 41,
   "id": "4962c3aa",
   "metadata": {},
   "outputs": [],
   "source": [
    "a=np.array([[1,2,3,4],[5,6,7,8],[9,10,11,12]])\n",
    "b=a[:,1:2]"
   ]
  },
  {
   "cell_type": "code",
   "execution_count": 42,
   "id": "316c11c2",
   "metadata": {},
   "outputs": [
    {
     "data": {
      "text/plain": [
       "array([[ 2],\n",
       "       [ 6],\n",
       "       [10]])"
      ]
     },
     "execution_count": 42,
     "metadata": {},
     "output_type": "execute_result"
    }
   ],
   "source": [
    "b"
   ]
  },
  {
   "cell_type": "code",
   "execution_count": 43,
   "id": "f46d5e92",
   "metadata": {},
   "outputs": [
    {
     "data": {
      "text/plain": [
       "array([[ 1,  2,  3,  4],\n",
       "       [ 5,  6,  7,  8],\n",
       "       [ 9, 10, 11, 12]])"
      ]
     },
     "execution_count": 43,
     "metadata": {},
     "output_type": "execute_result"
    }
   ],
   "source": [
    "a"
   ]
  },
  {
   "cell_type": "code",
   "execution_count": 44,
   "id": "d22310fc",
   "metadata": {},
   "outputs": [
    {
     "name": "stdout",
     "output_type": "stream",
     "text": [
      "[[ 1  2  3  4]\n",
      " [ 5  6  7  8]\n",
      " [ 9 10 11 12]]\n"
     ]
    }
   ],
   "source": [
    "print(a)"
   ]
  },
  {
   "cell_type": "code",
   "execution_count": 45,
   "id": "d831e6c0",
   "metadata": {},
   "outputs": [],
   "source": [
    "b=a[:,:]"
   ]
  },
  {
   "cell_type": "code",
   "execution_count": 46,
   "id": "5d49a9e2",
   "metadata": {},
   "outputs": [
    {
     "data": {
      "text/plain": [
       "array([[ 1,  2,  3,  4],\n",
       "       [ 5,  6,  7,  8],\n",
       "       [ 9, 10, 11, 12]])"
      ]
     },
     "execution_count": 46,
     "metadata": {},
     "output_type": "execute_result"
    }
   ],
   "source": [
    "b"
   ]
  },
  {
   "cell_type": "code",
   "execution_count": 48,
   "id": "7c0e0a5a",
   "metadata": {},
   "outputs": [
    {
     "data": {
      "text/plain": [
       "array([ 9, 10, 11, 12])"
      ]
     },
     "execution_count": 48,
     "metadata": {},
     "output_type": "execute_result"
    }
   ],
   "source": [
    "a=np.array([[1,2,3,4],[5,6,7,8],[9,10,11,12]])\n",
    "row_r1=a[2,:]\n",
    "row_r1"
   ]
  },
  {
   "cell_type": "code",
   "execution_count": 51,
   "id": "9e415c55",
   "metadata": {},
   "outputs": [
    {
     "data": {
      "text/plain": [
       "array([ 3,  7, 11])"
      ]
     },
     "execution_count": 51,
     "metadata": {},
     "output_type": "execute_result"
    }
   ],
   "source": [
    "col_2=a[:,2]\n",
    "col_2"
   ]
  },
  {
   "cell_type": "code",
   "execution_count": 54,
   "id": "1100b7e2",
   "metadata": {},
   "outputs": [
    {
     "name": "stdout",
     "output_type": "stream",
     "text": [
      "[1 5 7]\n"
     ]
    }
   ],
   "source": [
    "x=np.array([[1,2],[4,5],[7,8]])\n",
    "print(x[[0,1,2],[0,1,0]])"
   ]
  },
  {
   "cell_type": "code",
   "execution_count": 55,
   "id": "883dae7d",
   "metadata": {},
   "outputs": [
    {
     "name": "stdout",
     "output_type": "stream",
     "text": [
      "1 5 7\n"
     ]
    }
   ],
   "source": [
    "print(x[0,0],x[1,1],x[2,0])"
   ]
  },
  {
   "cell_type": "code",
   "execution_count": 56,
   "id": "3460805e",
   "metadata": {},
   "outputs": [
    {
     "name": "stdout",
     "output_type": "stream",
     "text": [
      "[3 7 9]\n"
     ]
    }
   ],
   "source": [
    "print(x[[0,1,2],[0,1,0]] +2)  ##addition"
   ]
  },
  {
   "cell_type": "code",
   "execution_count": 58,
   "id": "82c911c3",
   "metadata": {},
   "outputs": [],
   "source": [
    "x=np.array([[1,2,3],[4,5,6],[7,8,9],[10,11,12]])\n",
    "y=np.array([0,2,0,1])"
   ]
  },
  {
   "cell_type": "code",
   "execution_count": 59,
   "id": "7ad4b1c1",
   "metadata": {},
   "outputs": [],
   "source": [
    "x[np.arange(4),y] +=10"
   ]
  },
  {
   "cell_type": "code",
   "execution_count": 60,
   "id": "d2c03089",
   "metadata": {},
   "outputs": [
    {
     "data": {
      "text/plain": [
       "array([[11,  2,  3],\n",
       "       [ 4,  5, 16],\n",
       "       [17,  8,  9],\n",
       "       [10, 21, 12]])"
      ]
     },
     "execution_count": 60,
     "metadata": {},
     "output_type": "execute_result"
    }
   ],
   "source": [
    "x"
   ]
  },
  {
   "cell_type": "code",
   "execution_count": 64,
   "id": "44b4a4cb",
   "metadata": {},
   "outputs": [],
   "source": [
    "#boolean array indexing\n",
    "x=np.array([[4,3],[2,7],[5,9]])\n",
    "bol_indx=(x>5)"
   ]
  },
  {
   "cell_type": "code",
   "execution_count": 65,
   "id": "e5b18d1e",
   "metadata": {},
   "outputs": [
    {
     "data": {
      "text/plain": [
       "array([[False, False],\n",
       "       [False,  True],\n",
       "       [False,  True]])"
      ]
     },
     "execution_count": 65,
     "metadata": {},
     "output_type": "execute_result"
    }
   ],
   "source": [
    "bol_indx"
   ]
  },
  {
   "cell_type": "code",
   "execution_count": 72,
   "id": "81fb6d30",
   "metadata": {},
   "outputs": [
    {
     "name": "stdout",
     "output_type": "stream",
     "text": [
      "[7 9]\n"
     ]
    }
   ],
   "source": [
    "print(x[bol_indx])"
   ]
  },
  {
   "cell_type": "code",
   "execution_count": 73,
   "id": "df0cb296",
   "metadata": {},
   "outputs": [],
   "source": [
    "y=x[0]"
   ]
  },
  {
   "cell_type": "code",
   "execution_count": 74,
   "id": "111107af",
   "metadata": {},
   "outputs": [
    {
     "data": {
      "text/plain": [
       "array([4, 3])"
      ]
     },
     "execution_count": 74,
     "metadata": {},
     "output_type": "execute_result"
    }
   ],
   "source": [
    "y"
   ]
  },
  {
   "cell_type": "code",
   "execution_count": 77,
   "id": "bc4c00f1",
   "metadata": {},
   "outputs": [
    {
     "name": "stdout",
     "output_type": "stream",
     "text": [
      "float64\n"
     ]
    }
   ],
   "source": [
    "a=np.array([4.0,5.0,6.0])\n",
    "print(a.dtype)"
   ]
  },
  {
   "cell_type": "code",
   "execution_count": 78,
   "id": "260a66d2",
   "metadata": {},
   "outputs": [
    {
     "name": "stdout",
     "output_type": "stream",
     "text": [
      "int32\n"
     ]
    }
   ],
   "source": [
    "a=np.array([4,5,6])\n",
    "print(a.dtype)"
   ]
  },
  {
   "cell_type": "code",
   "execution_count": null,
   "id": "43e0d70d",
   "metadata": {},
   "outputs": [],
   "source": [
    "###byte & bit ....1byte= Collection of 8 bits i.e. 0 1 0 1 1 0 1 0"
   ]
  },
  {
   "cell_type": "code",
   "execution_count": 87,
   "id": "4679b195",
   "metadata": {},
   "outputs": [],
   "source": [
    "## by default int is 32 bits\n",
    "# min - 8 bits\n",
    "# max - 64 bits\n"
   ]
  },
  {
   "cell_type": "code",
   "execution_count": 82,
   "id": "bbc50c03",
   "metadata": {},
   "outputs": [
    {
     "name": "stdout",
     "output_type": "stream",
     "text": [
      "int32\n"
     ]
    }
   ],
   "source": [
    "a=np.array([[4,5,6,8,12,45,55],[4,5,6,8,12,45,55]])\n",
    "print(a.dtype)"
   ]
  },
  {
   "cell_type": "code",
   "execution_count": 86,
   "id": "0ed20bdb",
   "metadata": {},
   "outputs": [
    {
     "name": "stdout",
     "output_type": "stream",
     "text": [
      "int64\n"
     ]
    }
   ],
   "source": [
    "a=np.array([4,5,6],'int64')\n",
    "a\n",
    "print(a.dtype)"
   ]
  },
  {
   "cell_type": "code",
   "execution_count": 90,
   "id": "7a635e4a",
   "metadata": {},
   "outputs": [
    {
     "name": "stdout",
     "output_type": "stream",
     "text": [
      "float64\n"
     ]
    }
   ],
   "source": [
    "a=np.array([4.0,5.0,6.0])  # by default - 64 bits\n",
    "print(a.dtype)"
   ]
  },
  {
   "cell_type": "code",
   "execution_count": 95,
   "id": "32c9b0af",
   "metadata": {},
   "outputs": [
    {
     "name": "stdout",
     "output_type": "stream",
     "text": [
      "float16\n"
     ]
    }
   ],
   "source": [
    "a=np.array([4.0,5.0,6.0],'float16')  # by default - 64 bits\n",
    "print(a.dtype)                       # min - 16bits\n",
    "                                     # max - 64 bits"
   ]
  },
  {
   "cell_type": "code",
   "execution_count": 94,
   "id": "e0902883",
   "metadata": {},
   "outputs": [
    {
     "name": "stdout",
     "output_type": "stream",
     "text": [
      "complex128\n"
     ]
    }
   ],
   "source": [
    "a=np.array([4j,5j,6j])    # by default 128 bits\n",
    "print(a.dtype)            # min - 64 bits  \n",
    "                          # max - 128 bits"
   ]
  },
  {
   "cell_type": "code",
   "execution_count": 3,
   "id": "36b3d8ce",
   "metadata": {},
   "outputs": [],
   "source": [
    "a=np.array([[4,8],[2,6]],\"float64\")\n",
    "b=np.array([[3,5],[1,8]],\"float64\")"
   ]
  },
  {
   "cell_type": "code",
   "execution_count": 4,
   "id": "811c56a7",
   "metadata": {},
   "outputs": [
    {
     "name": "stdout",
     "output_type": "stream",
     "text": [
      "[[ 7. 13.]\n",
      " [ 3. 14.]]\n"
     ]
    }
   ],
   "source": [
    "print(a+b)"
   ]
  },
  {
   "cell_type": "code",
   "execution_count": 6,
   "id": "205f0092",
   "metadata": {},
   "outputs": [
    {
     "data": {
      "text/plain": [
       "array([[ 7., 13.],\n",
       "       [ 3., 14.]])"
      ]
     },
     "execution_count": 6,
     "metadata": {},
     "output_type": "execute_result"
    }
   ],
   "source": [
    "np.add(a,b)"
   ]
  },
  {
   "cell_type": "code",
   "execution_count": 7,
   "id": "6cfd1ca3",
   "metadata": {},
   "outputs": [],
   "source": [
    "a=np.array([[4,8],[2,6]],\"complex64\")       # can convert \"int\" into \"float\" & \"complex\"\n",
    "b=np.array([[3,5],[1,8]],\"complex64\")"
   ]
  },
  {
   "cell_type": "code",
   "execution_count": 8,
   "id": "cead6ae1",
   "metadata": {},
   "outputs": [
    {
     "name": "stdout",
     "output_type": "stream",
     "text": [
      "[[ 7.+0.j 13.+0.j]\n",
      " [ 3.+0.j 14.+0.j]]\n"
     ]
    }
   ],
   "source": [
    "print(a+b)"
   ]
  },
  {
   "cell_type": "code",
   "execution_count": 12,
   "id": "b11a02d0",
   "metadata": {},
   "outputs": [
    {
     "name": "stdout",
     "output_type": "stream",
     "text": [
      "[[ 7.+0.j 13.+0.j]\n",
      " [ 3.+0.j 14.+0.j]]\n"
     ]
    }
   ],
   "source": [
    "a=np.array([[4.0,8.0],[2.0,6.0]],\"complex64\")       # can convert \"int\" into \"float\" & \"complex\"\n",
    "b=np.array([[3.0,5.0],[1.0,8.0]],\"complex64\")\n",
    "print(a+b)"
   ]
  },
  {
   "cell_type": "code",
   "execution_count": null,
   "id": "f741b512",
   "metadata": {},
   "outputs": [],
   "source": [
    "a=np.array([[4.0,8.0],[2.0,6.0]],\"complex64\")       # can convert \"int\" into \"float\" & \"complex\"\n",
    "b=np.array([[3.0,5.0],[1.0,8.0]],\"complex64\")\n",
    "print(a+b)"
   ]
  },
  {
   "cell_type": "raw",
   "id": "cbda4d8b",
   "metadata": {},
   "source": [
    "# we can convert float into \"int\" and \"complex\".\n",
    "# we can not convert complx into \"int\" and \"float\"."
   ]
  },
  {
   "cell_type": "code",
   "execution_count": 15,
   "id": "0cbe33cb",
   "metadata": {},
   "outputs": [
    {
     "name": "stdout",
     "output_type": "stream",
     "text": [
      "[[ 7.+0.j 13.+0.j]\n",
      " [ 3.+0.j 14.+0.j]]\n"
     ]
    }
   ],
   "source": [
    "print(a+b)"
   ]
  },
  {
   "cell_type": "code",
   "execution_count": 16,
   "id": "183a5157",
   "metadata": {
    "scrolled": false
   },
   "outputs": [
    {
     "name": "stdout",
     "output_type": "stream",
     "text": [
      "[[ 1.+0.j  3.+0.j]\n",
      " [ 1.+0.j -2.+0.j]]\n"
     ]
    }
   ],
   "source": [
    "print(np.subtract(a,b))"
   ]
  },
  {
   "cell_type": "code",
   "execution_count": 17,
   "id": "be860dfe",
   "metadata": {},
   "outputs": [
    {
     "name": "stdout",
     "output_type": "stream",
     "text": [
      "[[12.+0.j 40.+0.j]\n",
      " [ 2.+0.j 48.+0.j]]\n"
     ]
    }
   ],
   "source": [
    "print(np.multiply(a,b))"
   ]
  },
  {
   "cell_type": "code",
   "execution_count": 18,
   "id": "62ce7e0d",
   "metadata": {},
   "outputs": [
    {
     "name": "stdout",
     "output_type": "stream",
     "text": [
      "[[1.3333334+0.j 1.6      +0.j]\n",
      " [2.       +0.j 0.75     +0.j]]\n"
     ]
    }
   ],
   "source": [
    "print(np.divide(a,b))"
   ]
  },
  {
   "cell_type": "code",
   "execution_count": 19,
   "id": "94524b8e",
   "metadata": {},
   "outputs": [
    {
     "name": "stdout",
     "output_type": "stream",
     "text": [
      "[[2.       +0.j 2.828427 +0.j]\n",
      " [1.4142135+0.j 2.4494898+0.j]]\n"
     ]
    }
   ],
   "source": [
    "print(np.sqrt(a,b))"
   ]
  },
  {
   "cell_type": "code",
   "execution_count": 24,
   "id": "721c7b40",
   "metadata": {},
   "outputs": [],
   "source": [
    "a=np.array([[4,8],[2,6]])\n",
    "b=np.array([[3,5],[1,8]])\n",
    "c=np.array([4,6])\n",
    "d=np.array([9,10])"
   ]
  },
  {
   "cell_type": "code",
   "execution_count": 25,
   "id": "3d42110b",
   "metadata": {},
   "outputs": [
    {
     "name": "stdout",
     "output_type": "stream",
     "text": [
      "[[4 8]\n",
      " [2 6]]\n",
      "[[3 5]\n",
      " [1 8]]\n"
     ]
    }
   ],
   "source": [
    "print(a)\n",
    "print(b)"
   ]
  },
  {
   "cell_type": "code",
   "execution_count": 23,
   "id": "4e45b1cf",
   "metadata": {},
   "outputs": [
    {
     "name": "stdout",
     "output_type": "stream",
     "text": [
      "[[20 84]\n",
      " [12 58]]\n"
     ]
    }
   ],
   "source": [
    "print(a.dot(b))  #martix multiplication 1st row 1 column."
   ]
  },
  {
   "cell_type": "code",
   "execution_count": 26,
   "id": "d5eab611",
   "metadata": {},
   "outputs": [
    {
     "name": "stdout",
     "output_type": "stream",
     "text": [
      "96\n"
     ]
    }
   ],
   "source": [
    "print(np.dot(c,d))"
   ]
  },
  {
   "cell_type": "code",
   "execution_count": 31,
   "id": "9a2ae5b4",
   "metadata": {},
   "outputs": [
    {
     "name": "stdout",
     "output_type": "stream",
     "text": [
      "[ 9 13]\n"
     ]
    }
   ],
   "source": [
    "x=np.array([[4,5],[6,7]])\n",
    "print(np.sum(x,axis=1))"
   ]
  },
  {
   "cell_type": "code",
   "execution_count": 34,
   "id": "776897ed",
   "metadata": {},
   "outputs": [
    {
     "ename": "TypeError",
     "evalue": "_sum() got multiple values for argument 'axis'",
     "output_type": "error",
     "traceback": [
      "\u001b[1;31m---------------------------------------------------------------------------\u001b[0m",
      "\u001b[1;31mTypeError\u001b[0m                                 Traceback (most recent call last)",
      "\u001b[1;32m<ipython-input-34-724b1d0592c2>\u001b[0m in \u001b[0;36m<module>\u001b[1;34m\u001b[0m\n\u001b[0;32m      1\u001b[0m \u001b[0mx\u001b[0m\u001b[1;33m=\u001b[0m\u001b[0mnp\u001b[0m\u001b[1;33m.\u001b[0m\u001b[0marray\u001b[0m\u001b[1;33m(\u001b[0m\u001b[1;33m[\u001b[0m\u001b[1;33m[\u001b[0m\u001b[1;33m[\u001b[0m\u001b[1;36m4\u001b[0m\u001b[1;33m,\u001b[0m\u001b[1;36m5\u001b[0m\u001b[1;33m]\u001b[0m\u001b[1;33m,\u001b[0m\u001b[1;33m[\u001b[0m\u001b[1;36m6\u001b[0m\u001b[1;33m,\u001b[0m\u001b[1;36m7\u001b[0m\u001b[1;33m]\u001b[0m\u001b[1;33m]\u001b[0m\u001b[1;33m]\u001b[0m\u001b[1;33m)\u001b[0m\u001b[1;33m\u001b[0m\u001b[1;33m\u001b[0m\u001b[0m\n\u001b[1;32m----> 2\u001b[1;33m \u001b[0mprint\u001b[0m\u001b[1;33m(\u001b[0m\u001b[0mx\u001b[0m\u001b[1;33m.\u001b[0m\u001b[0msum\u001b[0m\u001b[1;33m(\u001b[0m\u001b[0mx\u001b[0m\u001b[1;33m,\u001b[0m\u001b[0maxis\u001b[0m\u001b[1;33m=\u001b[0m\u001b[1;36m3\u001b[0m\u001b[1;33m)\u001b[0m\u001b[1;33m)\u001b[0m\u001b[1;33m\u001b[0m\u001b[1;33m\u001b[0m\u001b[0m\n\u001b[0m",
      "\u001b[1;31mTypeError\u001b[0m: _sum() got multiple values for argument 'axis'"
     ]
    }
   ],
   "source": [
    "x=np.array([[[4,5],[6,7]]])\n",
    "print(x.sum(x,axis=3))"
   ]
  },
  {
   "cell_type": "code",
   "execution_count": 38,
   "id": "787af83b",
   "metadata": {},
   "outputs": [
    {
     "name": "stdout",
     "output_type": "stream",
     "text": [
      "(2, 2)\n",
      "(2, 2)\n"
     ]
    }
   ],
   "source": [
    "# Tronsposing\n",
    "a=np.array([[4,8],[2,6]])\n",
    "print(a.shape)\n",
    "print(a.T.shape)"
   ]
  },
  {
   "cell_type": "code",
   "execution_count": 40,
   "id": "df9927ae",
   "metadata": {},
   "outputs": [
    {
     "name": "stdout",
     "output_type": "stream",
     "text": [
      "[[[4 8 9]\n",
      "  [2 6 5]]]\n",
      "[[[4]\n",
      "  [2]]\n",
      "\n",
      " [[8]\n",
      "  [6]]\n",
      "\n",
      " [[9]\n",
      "  [5]]]\n"
     ]
    }
   ],
   "source": [
    "a=np.array([[[4,8,9],[2,6,5]]])\n",
    "print(a)\n",
    "print(a.T)"
   ]
  },
  {
   "cell_type": "code",
   "execution_count": 44,
   "id": "1f9d6589",
   "metadata": {},
   "outputs": [
    {
     "name": "stdout",
     "output_type": "stream",
     "text": [
      "[[1 2 3]\n",
      " [4 5 6]\n",
      " [1 2 3]\n",
      " [4 5 6]]\n",
      "<class 'numpy.ndarray'>\n",
      "2\n",
      "(4, 3)\n",
      "12\n"
     ]
    }
   ],
   "source": [
    "a=np.array([[1,2,3],[4,5,6],[1,2,3],[4,5,6]])\n",
    "print(a)\n",
    "print(type(a))\n",
    "print(a.ndim)\n",
    "print(a.shape)\n",
    "print(a.size)"
   ]
  },
  {
   "cell_type": "code",
   "execution_count": 46,
   "id": "41af5dc1",
   "metadata": {},
   "outputs": [
    {
     "name": "stdout",
     "output_type": "stream",
     "text": [
      "[[0 0 0]\n",
      " [0 0 0]\n",
      " [0 0 0]\n",
      " [0 0 0]]\n"
     ]
    }
   ],
   "source": [
    "# brodcasting\n",
    "a=np.array([[1,2,3],[4,5,6],[1,2,3],[4,5,6]])\n",
    "b=np.array([1,2,3])\n",
    "c=np.empty_like(a)\n",
    "print(c)"
   ]
  },
  {
   "cell_type": "code",
   "execution_count": 47,
   "id": "0a0671bb",
   "metadata": {},
   "outputs": [
    {
     "name": "stdout",
     "output_type": "stream",
     "text": [
      "[[1 2 3]\n",
      " [4 5 6]\n",
      " [1 2 3]\n",
      " [4 5 6]]\n",
      "<class 'numpy.ndarray'>\n",
      "2\n",
      "(4, 3)\n",
      "12\n",
      "[1 2 3]\n",
      "<class 'numpy.ndarray'>\n",
      "1\n",
      "(3,)\n",
      "3\n"
     ]
    }
   ],
   "source": [
    "print(a)\n",
    "print(type(a))\n",
    "print(a.ndim)\n",
    "print(a.shape)\n",
    "print(a.size)\n",
    "print(b)\n",
    "print(type(b))\n",
    "print(b.ndim)\n",
    "print(b.shape)\n",
    "print(b.size)"
   ]
  },
  {
   "cell_type": "code",
   "execution_count": 49,
   "id": "a8378673",
   "metadata": {},
   "outputs": [
    {
     "name": "stdout",
     "output_type": "stream",
     "text": [
      "[[2 4 6]\n",
      " [5 7 9]\n",
      " [2 4 6]\n",
      " [5 7 9]]\n"
     ]
    }
   ],
   "source": [
    "for i in range(4):\n",
    "    c[i,:]=a[i,:]+b\n",
    "print(c)"
   ]
  },
  {
   "cell_type": "code",
   "execution_count": 61,
   "id": "8dc19b09",
   "metadata": {},
   "outputs": [
    {
     "name": "stdout",
     "output_type": "stream",
     "text": [
      "[[1 2 3 1 2 3 1 2 3]\n",
      " [4 5 6 4 5 6 4 5 6]\n",
      " [1 2 3 1 2 3 1 2 3]\n",
      " [4 5 6 4 5 6 4 5 6]]\n"
     ]
    }
   ],
   "source": [
    "a=np.array([[1,2,3],[4,5,6],[1,2,3],[4,5,6]])\n",
    "b=np.array([1,2,3])\n",
    "c=np.tile(a,3)\n",
    "print(c)"
   ]
  },
  {
   "cell_type": "code",
   "execution_count": 64,
   "id": "0e51d5fe",
   "metadata": {},
   "outputs": [
    {
     "name": "stdout",
     "output_type": "stream",
     "text": [
      "[[1 2 3 1 2 3]\n",
      " [4 5 6 4 5 6]\n",
      " [7 2 3 7 2 3]\n",
      " [0 5 6 0 5 6]\n",
      " [1 2 3 1 2 3]\n",
      " [4 5 6 4 5 6]\n",
      " [7 2 3 7 2 3]\n",
      " [0 5 6 0 5 6]]\n"
     ]
    }
   ],
   "source": [
    "a=np.array([[1,2,3],[4,5,6],[7,2,3],[0,5,6]])\n",
    "b=np.array([1,2,3])\n",
    "c=np.tile(a,(2,2))\n",
    "print(c)"
   ]
  },
  {
   "cell_type": "code",
   "execution_count": 74,
   "id": "982968c0",
   "metadata": {},
   "outputs": [],
   "source": [
    "d=np.array([[1,2,3],[4,5,6],[7,8,9],[0,5,6]])\n",
    "e=np.array([0,0,3])\n",
    "f=np.tile(e,(4,2))"
   ]
  },
  {
   "cell_type": "code",
   "execution_count": 75,
   "id": "4911a701",
   "metadata": {},
   "outputs": [
    {
     "ename": "ValueError",
     "evalue": "operands could not be broadcast together with shapes (4,3) (4,6) ",
     "output_type": "error",
     "traceback": [
      "\u001b[1;31m---------------------------------------------------------------------------\u001b[0m",
      "\u001b[1;31mValueError\u001b[0m                                Traceback (most recent call last)",
      "\u001b[1;32m<ipython-input-75-736ad00f17a9>\u001b[0m in \u001b[0;36m<module>\u001b[1;34m\u001b[0m\n\u001b[1;32m----> 1\u001b[1;33m \u001b[0mc\u001b[0m\u001b[1;33m=\u001b[0m\u001b[0md\u001b[0m\u001b[1;33m+\u001b[0m\u001b[0mf\u001b[0m\u001b[1;33m\u001b[0m\u001b[1;33m\u001b[0m\u001b[0m\n\u001b[0m\u001b[0;32m      2\u001b[0m \u001b[0mprint\u001b[0m\u001b[1;33m(\u001b[0m\u001b[0mc\u001b[0m\u001b[1;33m)\u001b[0m\u001b[1;33m\u001b[0m\u001b[1;33m\u001b[0m\u001b[0m\n",
      "\u001b[1;31mValueError\u001b[0m: operands could not be broadcast together with shapes (4,3) (4,6) "
     ]
    }
   ],
   "source": [
    "c=d+f\n",
    "print(c)"
   ]
  },
  {
   "cell_type": "code",
   "execution_count": 78,
   "id": "361e5dd5",
   "metadata": {},
   "outputs": [
    {
     "name": "stdout",
     "output_type": "stream",
     "text": [
      "[[ 4 12]\n",
      " [ 5 15]\n",
      " [ 6 18]]\n"
     ]
    }
   ],
   "source": [
    "x=np.array([4,5,6])\n",
    "y=np.array([1,3])\n",
    "print(np.reshape(x,(3,1))*y)"
   ]
  },
  {
   "cell_type": "code",
   "execution_count": null,
   "id": "4bda662b",
   "metadata": {},
   "outputs": [],
   "source": []
  }
 ],
 "metadata": {
  "kernelspec": {
   "display_name": "Python 3",
   "language": "python",
   "name": "python3"
  },
  "language_info": {
   "codemirror_mode": {
    "name": "ipython",
    "version": 3
   },
   "file_extension": ".py",
   "mimetype": "text/x-python",
   "name": "python",
   "nbconvert_exporter": "python",
   "pygments_lexer": "ipython3",
   "version": "3.8.8"
  }
 },
 "nbformat": 4,
 "nbformat_minor": 5
}
